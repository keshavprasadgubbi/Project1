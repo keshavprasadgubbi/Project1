
# 1. need to get user input for these words; so create 3 variables for these and then store user input inside tehse variables

color = input('Tell me your Color:')
plural_noun = input('Tell me your PN:')
celebrity = input('Tell me your celebrity:')
print('Roses are ' + color)
print(plural_noun + ' are Blue')
print('I Love ' + celebrity)

